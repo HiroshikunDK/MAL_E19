{
 "cells": [
  {
   "cell_type": "markdown",
   "metadata": {},
   "source": [
    "# ITMAL Exercise\n",
    "\n",
    "REVISIONS| |\n",
    "---------| |\n",
    "2018-0318| CEF, initial.\n",
    "2018-0321| CEF, updated and split into neurons and perceptrons.\n",
    "2018-0323| CEF, minor updated and spell checked.\n",
    "2018-0325| CEF, made communication sub-question optional, and minor text changes.\n",
    "2019-0930| CEF, updated for E19.\n",
    "\n",
    "## On Neurons, Biology and Cognition\n",
    "\n",
    "The biological aspects of neurons and neural networks are fascinating. Below are a couple of open-ended questions about the fundamental biological systems and processes, that allows us, humans, to think, learn, recon and understand our surroundings.\n",
    "\n",
    "While the biological systems played an important part in modelling neurons, say via Rosenblatt's Perceptron, there is no reason why our artificial systems should be purely limited to the biological model: any technical improvement in 'software' over the biological models can be put into play.\n",
    "\n",
    "We try to beat biology in the next two sets of exercises, but first, let us make some philosophical reflections on the ___biological model___.\n",
    "\n",
    "### Qa The Biological Neurons and the Human Brain\n",
    "\n",
    "Describe, in plain not-too-biological terms, the structure of a biological neuron. For inspiration use the following figure\n",
    "\n",
    "<img src=\"https://itundervisning.ase.au.dk/E19_itmal/L07/Alternatives/Figs/Chemical_synapse_schema_cropped.jpg\" style=\"width:400px\">\n",
    "<small>\n",
    "      <em>\n",
    "        <center> A signal propagating down an axon to the cell body and dendrites of the next cell </center> \n",
    "    <center><xsmall> [ https://en.wikipedia.org/wiki/Neuron#/media/File:Chemical_synapse_schema_cropped.jpg ] </xsmall></center>\n",
    "</em></small>\n",
    "\n",
    "Then explain, again with the wording of an engineer, not a biologist, how the neurons are structured in the brain? \n",
    "\n",
    "<img src=\"https://itundervisning.ase.au.dk/E19_itmal/L07/Alternatives/Figs/Gyrus_Dentatus_40x.jpg\" style=\"width:400px\">\n",
    "<small><em>\n",
    "    <center> Golgi-stained neurons in human hippocampal tissue. </center> \n",
    "    <center> [ https://en.wikipedia.org/wiki/Neuron#/media/File:Gyrus_Dentatus_40x.jpg ] </center>\n",
    "</em></small>\n",
    "\n",
    "Finally, describe in broad terms how a neuron communicate with other neurons? "
   ]
  },
  {
   "cell_type": "markdown",
   "metadata": {},
   "source": [
    "#  i: structure of a biological neuron\n",
    "The neuron consists of a cell body (the soma) an axon and a number of dendrites, which connects the neuron to other neurons. Generally, signals from other neurons are received through the dendrites and signals are sent through the axon. The dendrites are very short (micrometers) while the axon are potentially much longer, up to 1 meter.\n",
    "\n",
    "#  ii: the structure of neurons in the brain\n",
    "The neurons are stuctured in a way that is reminiscent of the neural networks (NN) used in machine learning. The activation function of the neuron most closely resembles the unit step used in the NN neurons. One key difference is the time sensitivity of the biological neuron, which is not present in a NN, which in general is not built up around time constraints in processing of data. Structurally, another difference is that the biological neurons aren't structured in layers as is often the case for the NN.\n",
    "Each neuron is connected to up to 10.000 other neurons and the average human brain consists of 86 billion neurons with around 100-1.000 trillion synaptic connections.\n",
    "\n",
    "#  iii: neuron communication\n",
    "The neuron is either excited or inhibited by other neurons through the dendrites in the form of a voltage potential. If there is a large change in voltage the neuron will generate an electrochemical pulse traveling along the axon.\n"
   ]
  },
  {
   "cell_type": "markdown",
   "metadata": {},
   "source": [
    "### [OPTIONAL] Qb Elaboration on the Human Brain\n",
    "\n",
    "For the question \"_In broad terms, how does a neuron communicate?_\", now answer with more details: communication through what medium using what signals?"
   ]
  },
  {
   "cell_type": "code",
   "execution_count": 1,
   "metadata": {},
   "outputs": [],
   "source": [
    "# [OPTIONAL] TODO: Qb in text.."
   ]
  },
  {
   "cell_type": "markdown",
   "metadata": {},
   "source": [
    "### Qc On Cognition\n",
    "\n",
    "Write an ultra-short essay on cognition, no more than 10-20 lines. \n",
    "\n",
    "Using the definition from Wikipedia:\n",
    "\n",
    "> <em>Cognition is \"the mental action or process of acquiring knowledge and understanding through thought, experience, and the senses...\"<br>[https://en.wikipedia.org/wiki/Cognition]\n",
    "</em>\n",
    "\n",
    "Now, reseach has not been able to explain cognition directly. So you should answer this question: __what is your understanding of cognition?__\n",
    "\n",
    "With your subjective opinion: if we reproduce biological neurons, and just make enough of them,  will a machine ever be able to have _cognition_?  "
   ]
  },
  {
   "cell_type": "markdown",
   "metadata": {},
   "source": [
    "A way of understanding of cognition is that it is the the process which allows us to understand and work through what we experience when interacting with the world. Cognition is very context dependent, and without context it is best described in broad terms. In relation to human cognition it can be seen as the sum of the parts that allow cognition such as memory, experiences, self understanding, emotions etc. \n",
    "The minimum requirenment for cognition can perhaps be seen as the ability to generate new knowledge based on existing knowledge. In computer science, algorithms that feature online learning can thus be seen as exhibiting a limited cognition.\n",
    "Machines showing cognition on a human level in the future seems quite unlikely, though probably not impossible. As such, manufacturing the equivalent of an artificial brain using artificial biological neurons seems unlikely but possible. Of course just making enough neurons is hardly adequate as rules governing the function of the neurons on a microscopic level as well as a macroscopic level is likely to be a very hard challenge to overcome, as cognition on a human level likely requires a high level of structural complexity as well as plasticity to facilitate complex learning and cognition processes.  "
   ]
  }
 ],
 "metadata": {
  "kernelspec": {
   "display_name": "Python 3",
   "language": "python",
   "name": "python3"
  },
  "language_info": {
   "codemirror_mode": {
    "name": "ipython",
    "version": 3
   },
   "file_extension": ".py",
   "mimetype": "text/x-python",
   "name": "python",
   "nbconvert_exporter": "python",
   "pygments_lexer": "ipython3",
   "version": "3.7.3"
  },
  "varInspector": {
   "cols": {
    "lenName": 16,
    "lenType": 16,
    "lenVar": 40
   },
   "kernels_config": {
    "python": {
     "delete_cmd_postfix": "",
     "delete_cmd_prefix": "del ",
     "library": "var_list.py",
     "varRefreshCmd": "print(var_dic_list())"
    },
    "r": {
     "delete_cmd_postfix": ") ",
     "delete_cmd_prefix": "rm(",
     "library": "var_list.r",
     "varRefreshCmd": "cat(var_dic_list()) "
    }
   },
   "types_to_exclude": [
    "module",
    "function",
    "builtin_function_or_method",
    "instance",
    "_Feature"
   ],
   "window_display": true
  }
 },
 "nbformat": 4,
 "nbformat_minor": 2
}
