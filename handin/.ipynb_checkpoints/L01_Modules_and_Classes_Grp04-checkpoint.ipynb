{
 "cells": [
  {
   "cell_type": "markdown",
   "metadata": {},
   "source": [
    "# ITMAL Exercise\n",
    "\n",
    "REVISIONS||\n",
    "---------||\n",
    "2018-1219| CEF, initial.                  \n",
    "2018-0206| CEF, updated and spell checked. \n",
    "2018-0207| CEF, made Qh optional.\n",
    "2018-0208| CEF, added PYTHONPATH for windows.\n",
    "2018-0212| CEF, small mod in itmalutils/utils.\n",
    "2019-0820| CEF, E19 ITMAL update.\n",
    "\n",
    "## Python Basics\n",
    "\n",
    "### Modules and Packages in Python\n",
    "\n",
    "Reuse of code in Jupyter notebooks can be done by either including a raw python source as a magic command\n",
    "\n",
    "```python\n",
    "%load filename.py\n",
    "```\n",
    "but this just pastes the source into the notebook and creates all kinds of pains regarding code maintenance.\n",
    "\n",
    "A better way is to use a python __module__. A module consists simply (and pythonic) of a directory with a module init file in it (possibly empty) \n",
    "```python\n",
    "libitmal/__init__.py\n",
    "```\n",
    "To this directory you can add modules in form of plain python files, say\n",
    "```python\n",
    "libitmal/utils.py\n",
    "```\n",
    "That's about it! The `libitmal` file tree should now look like\n",
    "```\n",
    "libitmal/\n",
    "├── __init__.py\n",
    "├── __pycache__\n",
    "│   ├── __init__.cpython-36.pyc\n",
    "│   └── utils.cpython-36.pyc\n",
    "├── utils.py\n",
    "```\n",
    "with the cache part only being present once the module has been initialized.\n",
    "\n",
    "You should now be able to use the `libitmal` unit via an import directive, like\n",
    "```python\n",
    "import numpy as np\n",
    "from libitmal import utils as itmalutils\n",
    "\n",
    "print(dir(itmalutils))\n",
    "print(itmalutils.__file__)\n",
    "\n",
    "X = np.array([[1,2],[3,-100]])\n",
    "itmalutils.PrintMatrix(X,\"mylabel=\")\n",
    "itmalutils.TestAll()\n",
    "```"
   ]
  },
  {
   "cell_type": "markdown",
   "metadata": {},
   "source": [
    "## Qa Load and test the `libitmal` module\n",
    "\n",
    "Try out the `libitmal` module from [GITMAL]. Load this module and run the function\n",
    "\n",
    "```python\n",
    "from libitmal import utils as itmalutils\n",
    "#utils.TestAll()\n",
    "itmalutils.TestAll()\n",
    "```\n",
    "from this module.\n",
    "\n",
    "##### Implementation details\n",
    "\n",
    "Note that there is a python module ___include___ search path, that you may have to investigate and modify. For my Linux setup I have an export or declare statement in my .bashrc file, like\n",
    "\n",
    "```bash\n",
    "declare -x PYTHONPATH=~/ASE/ML/itmal:$PYTHONPATH\n",
    "```\n",
    "but your ```itmal```, the [GITMAL] root dir, may be placed elsewhere.\n",
    "\n",
    "For ___Windows___, you have to add `PYTHONPATH` to your user environment variables...see screenshot below (enlarge by modding the image width-tag or find the original png in the Figs directory).\n",
    "\n",
    "<img src=\"https://itundervisning.ase.au.dk/E19_itmal/L01/Figs/Screenshot_windows_enviroment_variables.png\" style=\"width:350px\">\n",
    "\n",
    "or if you, like me, hate setting up things in a GUI, and prefer a console, try in a CMD on windows\n",
    "\n",
    "```bash\n",
    "CMD> setx.exe PYTHONPATH \"C:\\Users\\auXXYYZZ\\itmal\"\n",
    "```\n",
    "\n",
    "replacing the username and path with whatever you have. If everything fails you could programmatically add your path to the libitmal directory as\n",
    "\n",
    "```python\n",
    "import sys,os\n",
    "sys.path.append(os.path.expanduser('~/itmal'))\n",
    "\n",
    "from libitmal import utils as itmalutils\n",
    "print(dir(itmalutils))\n",
    "print(itmalutils.__file__)\n",
    "```"
   ]
  },
  {
   "cell_type": "markdown",
   "metadata": {},
   "source": [
    "<font color=Blue><h1>Qa) solution</h1></font>"
   ]
  },
  {
   "cell_type": "code",
   "execution_count": 1,
   "metadata": {},
   "outputs": [
    {
     "name": "stdout",
     "output_type": "stream",
     "text": [
      "TestPrintMatrix...(no regression testing)\n",
      "X=[[   1.    2.]\n",
      "   [   3. -100.]\n",
      "   [   1.   -1.]]\n",
      "X=[[ 1.  2.]\n",
      "   ...\n",
      "   [ 1. -1.]]\n",
      "X=[[   1.\n",
      "       2.    ]\n",
      "   [   3.0001\n",
      "    -100.    ]\n",
      "   [   1.\n",
      "      -1.    ]]\n",
      "X=[[   1.    2.]\n",
      "   [   3. -100.]\n",
      "   [   1.   -1.]]\n",
      "OK\n",
      "TEST: OK\n",
      "ALL OK\n",
      "OK\n"
     ]
    }
   ],
   "source": [
    "from libitmal import utils as itmalutils\n",
    "itmalutils.TestAll()\n",
    "print(\"OK\")"
   ]
  },
  {
   "cell_type": "markdown",
   "metadata": {},
   "source": [
    "## Qb Create your own module, with some functions, and test it\n",
    "\n",
    "Now create your own module, with some dummy functionality. Load it and run you dummy function in a Jupyter Notebook.\n",
    "\n",
    "Keep this module at hand, when coding, and try to capture reusable python functions in it as you invent them!"
   ]
  },
  {
   "cell_type": "markdown",
   "metadata": {},
   "source": [
    "<font color=Blue><h1>Qb) solution</h1></font>\n",
    "\n",
    "For the following exercise we have made a python module called 'simpleoperations'."
   ]
  },
  {
   "cell_type": "code",
   "execution_count": 2,
   "metadata": {},
   "outputs": [],
   "source": [
    "import simpleoperations as calc\n",
    "import simpleoperations as calc1\n",
    "#used for the udated module task"
   ]
  },
  {
   "cell_type": "code",
   "execution_count": 3,
   "metadata": {},
   "outputs": [
    {
     "name": "stdout",
     "output_type": "stream",
     "text": [
      "Addition called V1.0\n",
      "Adding 5 + 5 = 10\n",
      "Subtraction called V1.0\n",
      "Subtracking 10 - 5 = 5\n",
      "Multiplication called V1.0\n",
      "Multiplying 4 * 5 = 20\n",
      "Multiplication called V1.0\n",
      "Subtracking 21 / 3 = 7.0\n",
      "OK\n"
     ]
    }
   ],
   "source": [
    "myvar = calc.Add(5,5)\n",
    "print (\"Adding 5 + 5 = \" + str(myvar))\n",
    "\n",
    "myvar = calc.Sub(10,5)\n",
    "print (\"Subtracking 10 - 5 = \" + str(myvar))\n",
    "\n",
    "myvar = calc.Mul(4,5)\n",
    "print (\"Multiplying 4 * 5 = \" + str(myvar))\n",
    "\n",
    "myvar = calc.Div(21,3)\n",
    "print (\"Subtracking 21 / 3 = \" + str(myvar))\n",
    "\n",
    "print(\"OK\")"
   ]
  },
  {
   "cell_type": "markdown",
   "metadata": {},
   "source": [
    "## Qc How do you 'recompile' a module?\n",
    "\n",
    "When changing the module code, Jupyter will keep running on the old module. How do you force the Jupyter notebook to re-load the module changes? "
   ]
  },
  {
   "cell_type": "markdown",
   "metadata": {},
   "source": [
    "<font color=Blue><h1>Qc) solution</h1></font>\n",
    "\n",
    "There are atleast two options to make sure that our module is \"recompiled\". One way is by using importlib.reload(module), or the other way is simply by \"reimporting\" the module again.\n",
    "\n",
    "__User action!__\n",
    "To illustrate this, we ask that you change something in the module and then run the next two cells. What is now seen are two different outputs. The first with the results from the old module and the second with the results from the updated module."
   ]
  },
  {
   "cell_type": "code",
   "execution_count": 4,
   "metadata": {},
   "outputs": [
    {
     "name": "stdout",
     "output_type": "stream",
     "text": [
      "Addition called V1.0\n",
      "Adding 5 + 5 = 10\n",
      "Subtraction called V1.0\n",
      "Subtracking 10 - 5 = 5\n",
      "Multiplication called V1.0\n",
      "Multiplying 4 * 5 = 20\n",
      "Multiplication called V1.0\n",
      "Subtracking 21 / 3 = 7.0\n",
      "OK\n"
     ]
    }
   ],
   "source": [
    "myvar = calc.Add(5,5)\n",
    "print (\"Adding 5 + 5 = \" + str(myvar))\n",
    "\n",
    "myvar = calc.Sub(10,5)\n",
    "print (\"Subtracking 10 - 5 = \" + str(myvar))\n",
    "\n",
    "myvar = calc.Mul(4,5)\n",
    "print (\"Multiplying 4 * 5 = \" + str(myvar))\n",
    "\n",
    "myvar = calc.Div(21,3)\n",
    "print (\"Subtracking 21 / 3 = \" + str(myvar))\n",
    "\n",
    "print(\"OK\")"
   ]
  },
  {
   "cell_type": "code",
   "execution_count": 5,
   "metadata": {},
   "outputs": [
    {
     "name": "stdout",
     "output_type": "stream",
     "text": [
      "Addition called V1.0\n",
      "Adding 5 + 5 = 10\n",
      "Subtraction called V1.0\n",
      "Subtracking 10 - 5 = 5\n",
      "Multiplication called V1.0\n",
      "Multiplying 4 * 5 = 20\n",
      "Multiplication called V1.0\n",
      "Subtracking 21 / 3 = 7.0\n",
      "OK\n"
     ]
    }
   ],
   "source": [
    "import importlib\n",
    "importlib.reload(calc1)\n",
    "\n",
    "myvar = calc1.Add(5,5)\n",
    "print (\"Adding 5 + 5 = \" + str(myvar))\n",
    "\n",
    "myvar = calc1.Sub(10,5)\n",
    "print (\"Subtracking 10 - 5 = \" + str(myvar))\n",
    "\n",
    "myvar = calc1.Mul(4,5)\n",
    "print (\"Multiplying 4 * 5 = \" + str(myvar))\n",
    "\n",
    "myvar = calc1.Div(21,3)\n",
    "print (\"Subtracking 21 / 3 = \" + str(myvar))\n",
    "\n",
    "print(\"OK\")"
   ]
  },
  {
   "cell_type": "markdown",
   "metadata": {},
   "source": [
    "## [OPTIONAL] Qd Write a Howto on Python Modules a Packages\n",
    "\n",
    "Write a short description of how to use modules in Python (notes on modules path, import directives, directory structure, etc.)"
   ]
  },
  {
   "cell_type": "markdown",
   "metadata": {},
   "source": [
    "<font color=Blue><h1>Qd) solution</h1></font>"
   ]
  },
  {
   "cell_type": "markdown",
   "metadata": {},
   "source": [
    "\n",
    "# Module Guide\n",
    "\n",
    "This small guide will contain the sections:\n",
    "\n",
    "- Loading and naming a module\n",
    "- Using a module \n",
    "- Making a module \n",
    "\n",
    "### Loading and naming a module\n",
    "\n",
    "A module is a python script compiled to a file with the extension .py and can be used via the key work **import** <br>\n",
    "The syntax for importing a file<br>\n",
    "```python\n",
    "    import filename\n",
    "```\n",
    "using the keyword **from** we specify the imported is in a specific folder and with **as** we can save the <br> python module under a different alias.<br>\n",
    "```python\n",
    "    import filename from foldername as fn \n",
    "```\n",
    "The module is now ready for use and you can access function defined in **filename.py** <br>\n",
    "This also ensure we dont always need to import a whole directory, but maybe a part of it<br><br>\n",
    "The structure of your python script is made so you can only see what is in the same level and folder the script is placed<br>\n",
    "or online resources made availble by Pythons online libraries. \n",
    "\n",
    "### Using a module\n",
    "\n",
    "When a module is made availble through the previos section you can start using the functions defined in the module as:  \n",
    "```python\n",
    "    myvar = fn.Function()\n",
    "```\n",
    "In this case we have a function in module with the alias **fn** called function and we which to use it and save it to **myvar**<br> \n",
    "\n",
    "### Making a module\n",
    "You can write your own modules by downloading your project as an .py extended file. you can as any other module put it en the same folder and access it directly <br>\n",
    "The benefit is that we can fastly **import** and reuse our own or different modules fast as the filename defines the which module we are using.<br>\n",
    "To make a module we can **def**ine functions and include other directories:\n",
    "```python\n",
    "    #filename.py\n",
    "    import otherDirectory from otherFolder as od\n",
    "    \n",
    "    def Function();\n",
    "        print(\"Function is called\")\n",
    "        value = od.otherFunction()\n",
    "        return value\n",
    "    \n",
    "```\n",
    "The **function()** will be made available by importing filename.py and using the alias we set for the module in section 2.<br>\n",
    "The way to use **def** is to name the function with parameter values needed, then you indent the operation you wish to execute. the ident defines eveything to be executed and will fail execution. As this is an interpreted code luanguage we will only fail when we call the function.\n",
    "\n",
    "```python\n",
    "    #filename.py\n",
    "    import otherDirectory from otherFolder as od\n",
    "    \n",
    "    def Function();\n",
    "        print(\"Function is called\")\n",
    "        value = od.otherFunction()\n",
    "    return value #Wrong!!! def cant see the return. \n",
    "    \n",
    "```\n"
   ]
  },
  {
   "cell_type": "markdown",
   "metadata": {},
   "source": [
    "### Classes in Python\n",
    "\n",
    "Good news: Python got classes. Bad news: they are somewhat obscure compared to C++ classes. \n",
    "\n",
    "Though we will not use object-oriented programming in Python intensively, we still need some basic understanding of Python classes. Let's just dig into a class-demo, here is `MyClass` in Python\n",
    "\n",
    "```python\n",
    "class MyClass:\n",
    "    myvar = \"blah\"\n",
    "\n",
    "    def myfun(self):\n",
    "        print(\"This is a message inside the class.\")\n",
    "\n",
    "myobjectx = MyClass()\n",
    "```\n",
    "\n",
    "## Qe Extend the class with some public and private functions and member variables\n",
    "\n",
    "How are private function and member variables represented in python classes? \n",
    "\n",
    "What is the meaning of `self` in python classes?\n",
    "\n",
    "What happens to a function inside a class if you forget `self` in the parameter list, like `def myfun():` instead of `def myfun(self):`?\n",
    "\n",
    "[OPTIONAL] What does 'class' and 'instance variables' in python correspond to in C++? Maybe you can figure it out, I did not really get it reading, say this tutorial\n",
    "\n",
    "> https://www.digitalocean.com/community/tutorials/understanding-class-and-instance-variables-in-python-3"
   ]
  },
  {
   "cell_type": "markdown",
   "metadata": {},
   "source": [
    "<font color=Blue><h1>Qe) solution</h1></font>\n",
    "\n",
    "Protected and private attributes are defined in python using the `_` and `__` operator respectively, and can be added to functions and attributes."
   ]
  },
  {
   "cell_type": "code",
   "execution_count": 6,
   "metadata": {},
   "outputs": [],
   "source": [
    "# Class: course - start #\n",
    "\n",
    "class course:\n",
    "    name = \"Machine Learning\"\n",
    "    course_alias = \"ITMAL\"\n",
    "    __attendees = [\"Tank Top Thomas\", \"Dynamit David\",\"Jaguar John\"]\n",
    "    \n",
    "    def return_attendees(self):\n",
    "        str1 = ', '.join(self.__attendees)\n",
    "        print(\"The attendees of course \" + self.course_alias + \" is: \" + str1)\n",
    "        \n",
    "    def get_feedback(): # <-- Note no self here.\n",
    "        str1 = ', '.join(__attendees)\n",
    "        print(str1 + \"gives the course: \" + course_alias + \",  5/5 stars\")\n",
    "        \n",
    "# Class: course - end #\n",
    "\n",
    "myObj = course()"
   ]
  },
  {
   "cell_type": "markdown",
   "metadata": {},
   "source": [
    "When you define a function inside a class, the function will automaticly try and pass along it self (the object it resides in) as a parameter. Thus the function will fail as it has no parameter containing the object, which is the accesssor for private/procteced data. This might be cause by loose connection between functions and classes as they were not implemented at the same time, so a function contains its own class to access member attributes.\n",
    "\n",
    "So the following works:"
   ]
  },
  {
   "cell_type": "code",
   "execution_count": 7,
   "metadata": {},
   "outputs": [
    {
     "name": "stdout",
     "output_type": "stream",
     "text": [
      "The attendees of course ITMAL is: Tank Top Thomas, Dynamit David, Jaguar John\n"
     ]
    }
   ],
   "source": [
    "myObj.return_attendees()"
   ]
  },
  {
   "cell_type": "markdown",
   "metadata": {},
   "source": [
    "Where the following does not:"
   ]
  },
  {
   "cell_type": "code",
   "execution_count": 8,
   "metadata": {},
   "outputs": [
    {
     "ename": "TypeError",
     "evalue": "get_feedback() takes 0 positional arguments but 1 was given",
     "output_type": "error",
     "traceback": [
      "\u001b[0;31m---------------------------------------------------------------------------\u001b[0m",
      "\u001b[0;31mTypeError\u001b[0m                                 Traceback (most recent call last)",
      "\u001b[0;32m<ipython-input-8-462a5d9a6783>\u001b[0m in \u001b[0;36m<module>\u001b[0;34m\u001b[0m\n\u001b[0;32m----> 1\u001b[0;31m \u001b[0mmyObj\u001b[0m\u001b[0;34m.\u001b[0m\u001b[0mget_feedback\u001b[0m\u001b[0;34m(\u001b[0m\u001b[0;34m)\u001b[0m\u001b[0;34m\u001b[0m\u001b[0;34m\u001b[0m\u001b[0m\n\u001b[0m",
      "\u001b[0;31mTypeError\u001b[0m: get_feedback() takes 0 positional arguments but 1 was given"
     ]
    }
   ],
   "source": [
    "myObj.get_feedback()"
   ]
  },
  {
   "cell_type": "markdown",
   "metadata": {},
   "source": [
    "#### Qf Extend the class with a Constructor\n",
    "\n",
    "Figure a way to declare/define a constructor (CTOR) in a python class. How is it done in python?\n",
    "\n",
    "Is there a class destructor in python (DTOR)? Give a textual reason why/why-not python has a DTOR?\n",
    "\n",
    "Hint: python is garbage collection like in C#, and do not go into the details of `__del__`, `___enter__`, `__exit__` functions...unless you find it irresistible to investigate."
   ]
  },
  {
   "cell_type": "markdown",
   "metadata": {},
   "source": [
    "<font color=Blue><h1>Qf) solution</h1></font>\n",
    "\n",
    "The contructor is called by `__init__`. In general it seems that most of the functions like: operator overload, constructors, and destrucors, are defined with a `__<keyword>__`. This gives a much nicer and readable code, especially with operator overloading compared to operator overloading in C++."
   ]
  },
  {
   "cell_type": "code",
   "execution_count": 9,
   "metadata": {},
   "outputs": [],
   "source": [
    "class student:\n",
    "    def __init__(self, name, aid, stdnr):\n",
    "        self.name=name\n",
    "        self._auid=aid\n",
    "        self.__studentnumber=stdnr\n",
    "        print(\"CTOR called!\")\n",
    "    def __del__(self):\n",
    "        print(\"DTOR called!\")"
   ]
  },
  {
   "cell_type": "code",
   "execution_count": 10,
   "metadata": {},
   "outputs": [
    {
     "name": "stdout",
     "output_type": "stream",
     "text": [
      "CTOR called!\n",
      "Student Name: Tank Top Thomas\n",
      "Student AUID: au429001\n"
     ]
    }
   ],
   "source": [
    "st1 = student(\"Tank Top Thomas\", \"au429001\", 12345678)\n",
    "\n",
    "print(\"Student Name: \" + st1.name)\n",
    "print(\"Student AUID: \" + st1._auid)\n",
    "#print(\"Student Number: \" + st1.__studentnumber) # Not allowed since it's private."
   ]
  },
  {
   "cell_type": "markdown",
   "metadata": {},
   "source": [
    "As stated in the hint paragraf above, Python is a garbage collection language just like C#, meaning, when an object goes out of scope and retains no global reference, the object will automatically get deleted.<br>\n",
    "However, in some casses the developer needs to ensure some objects are deleted correctly, e.g. in cases where an object retains a connection to an external device. So to end up with a correct state after deletion the developer is given the ```__del__``` to extend the delete function."
   ]
  },
  {
   "cell_type": "code",
   "execution_count": 11,
   "metadata": {},
   "outputs": [
    {
     "name": "stdout",
     "output_type": "stream",
     "text": [
      "DTOR called!\n"
     ]
    }
   ],
   "source": [
    "del st1"
   ]
  },
  {
   "cell_type": "markdown",
   "metadata": {},
   "source": [
    "#### Qg Extend the class with a to-string function\n",
    "\n",
    "Then find a way to serialize a class, that is to make some `tostring()` functionality similar to a C++ \n",
    "\n",
    "```C++\n",
    "friend ostream& operator<<(ostream& s,const MyClass& x)\n",
    "{\n",
    "    return os << ..\n",
    "}\n",
    "```"
   ]
  },
  {
   "cell_type": "code",
   "execution_count": 12,
   "metadata": {},
   "outputs": [
    {
     "data": {
      "text/plain": [
       "'Carsten MAL, au13371235, ITMAL, 87654321;'"
      ]
     },
     "execution_count": 12,
     "metadata": {},
     "output_type": "execute_result"
    }
   ],
   "source": [
    "class teacher:\n",
    "    def __init__(self, name, aid, cour, tchnr):\n",
    "        self.name=name\n",
    "        self._auid=aid\n",
    "        self.course =cour \n",
    "        self.__teachernumber=tchnr\n",
    "\n",
    "#The function str() is a function calling object' __str__ function, which we can use to overwrite the return type.    \n",
    "    def __str__(self):\n",
    "        mystring = self.name + \", \" + self._auid + \", \" + self.course +\", \" + str(self.__teachernumber) + \";\" \n",
    "        return mystring\n",
    "\n",
    "th1 = teacher(\"Carsten MAL\", \"au13371235\", \"ITMAL\", 87654321)\n",
    "\n",
    "str(th1)"
   ]
  },
  {
   "cell_type": "markdown",
   "metadata": {},
   "source": [
    "#### [OPTIONAL] Qh Write a Howto on Python Classes \n",
    "\n",
    "Write a _How-To use Classes Pythonically_, including a description of public/privacy, constructors/destructors, the meaning of `self`, and inheritance."
   ]
  },
  {
   "cell_type": "code",
   "execution_count": 13,
   "metadata": {},
   "outputs": [],
   "source": [
    "# TODO: Qh..."
   ]
  }
 ],
 "metadata": {
  "kernelspec": {
   "display_name": "Python 3",
   "language": "python",
   "name": "python3"
  },
  "language_info": {
   "codemirror_mode": {
    "name": "ipython",
    "version": 3
   },
   "file_extension": ".py",
   "mimetype": "text/x-python",
   "name": "python",
   "nbconvert_exporter": "python",
   "pygments_lexer": "ipython3",
   "version": "3.7.3"
  },
  "varInspector": {
   "cols": {
    "lenName": 16,
    "lenType": 16,
    "lenVar": 40
   },
   "kernels_config": {
    "python": {
     "delete_cmd_postfix": "",
     "delete_cmd_prefix": "del ",
     "library": "var_list.py",
     "varRefreshCmd": "print(var_dic_list())"
    },
    "r": {
     "delete_cmd_postfix": ") ",
     "delete_cmd_prefix": "rm(",
     "library": "var_list.r",
     "varRefreshCmd": "cat(var_dic_list()) "
    }
   },
   "types_to_exclude": [
    "module",
    "function",
    "builtin_function_or_method",
    "instance",
    "_Feature"
   ],
   "window_display": true
  }
 },
 "nbformat": 4,
 "nbformat_minor": 2
}
