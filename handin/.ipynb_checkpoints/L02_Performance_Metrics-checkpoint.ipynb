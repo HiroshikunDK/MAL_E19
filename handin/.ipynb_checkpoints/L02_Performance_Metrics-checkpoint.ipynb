{
 "cells": [
  {
   "cell_type": "markdown",
   "metadata": {
    "colab_type": "text",
    "id": "RudEM72xzScg"
   },
   "source": [
    "# ITMAL Exercise\n",
    "\n",
    "\n",
    "REVISIONS||\n",
    "---------||\n",
    "2018-1219| CEF, initial.                  \n",
    "2018-0207| CEF, updated.           \n",
    "2018-0207| CEF, rewritten accuracy paradox section. \n",
    "2018-0305| CEF, updated with SHN comments.\n",
    "2019-0901| CEF, updated for ITMAL v2.\n",
    "2019-0904| CEF, updated for print-f and added conclusion Q.\n",
    "\n",
    "## Performance Metrics\n",
    "\n",
    "There are a number of frequently uses metrics in ML, namely accuracy, precision, recall and the $F_1$ score. All are called _metrics_ (though they are not true norms, like ${\\cal L}_2$ or ${\\cal L}_1$ we saw last time).\n",
    "\n",
    "Maybe performance _score_ would be a better name than performance metric, at least for the accuracy, precision, recall we will be looking at---emphasising the conceptual distinction between the  _score-function_ and _cost(/loss/error/objective)-function_ (the later is typically a true distance/norm function).  \n",
    "\n",
    "You can find a lot of details on say precision and recall in Wikipedia\n",
    "\n",
    ">  https://en.wikipedia.org/wiki/Precision_and_recall\n",
    "\n",
    "\n",
    "### Nomenclature\n",
    "\n",
    "| NAME | SYMBOL | ALIAS |\n",
    "| :---: | :---: | :---: |\n",
    "|true positives | $TP$ | |\n",
    "|true negatives | $TN$ | |\n",
    "|false positives| $FP$ | type I error| \n",
    "|false negatives| $FN$ | type II error |\n",
    "\n",
    "and $N = N_P + N_N$ being the total number of samples and the number of positive and negative samples\n",
    "respectively.\n",
    "\n",
    "### Precision\n",
    "\n",
    "$$\n",
    "\\def\\by{\\mathbf{y}}\n",
    "\\def\\ba{\\begin{array}{lll}}\n",
    "\\def\\ea{\\end{array}}\n",
    "\\newcommand{\\rem}[1]{}\n",
    "\\newcommand\\st[1]{_{\\scriptsize #1}}\n",
    "\\newcommand\\myfrac[2]{\\frac{#1\\rule{0pt}{8pt}}{#2\\rule{0pt}{8pt}}} \n",
    "\\ba\n",
    " p &= \\myfrac{TP}{TP + FP}\n",
    "\\ea\n",
    "$$\n",
    "\n",
    "### Recall or Sensitivity\n",
    "\n",
    "$$\n",
    "  \\ba\n",
    "    r &= \\myfrac{TP}{TP + FN}\\\\\n",
    "      &= \\myfrac{TP}{N_P}\n",
    "  \\ea\n",
    "$$\n",
    "\n",
    "### Accuracy\n",
    "\n",
    "$$\n",
    "  \\ba\n",
    "      a &= \\myfrac{TP + TN}{TP + TN + FP + FN}\\\\\n",
    "        &= \\myfrac{TP + TN}{N}\\\\\n",
    "        &= \\myfrac{TP + TN}{N_P~~ + N_N} \n",
    "  \\ea\n",
    "$$\n",
    "\n",
    "#### Accuracy Paradox\n",
    "\n",
    "A static constant model, say $p\\st{cancer}=0$ may have higher accuracy than a real model with predictive power. This is odd!\n",
    "\n",
    "Asymmetric weight could also be associated with the false positive and false negative predictions, yielding either FP of FN much more expensive than the other. Say, it is more expensive not to treat a person with cancer, than treating a person without cancer. \n",
    "\n",
    "### F-score\n",
    "\n",
    "General $\\beta$-harmonic mean of the precision and recall \n",
    "$$\n",
    "    F_\\beta = (1+\\beta^2) \\myfrac{2pr}{\\beta^2 p+r}\\\\\n",
    "$$ \n",
    "that for say $\\beta=2$ or $\\beta=0.5$ shifts or skews the emphasis on the two variables in the equation. Normally only the $\\beta=1$ harmonic mean is used\n",
    "\n",
    "$$\n",
    "  \\ba\n",
    "    F_1 &= \\myfrac{2pr}{p+r}\\\\\n",
    "        &= \\myfrac{2}{1/p + 1/r}\n",
    "  \\ea\n",
    "$$\n",
    "with $F$ typically being synonymous with $F_1$. \n",
    "\n",
    "If needed, find more info on Wikipedia\n",
    "\n",
    "> https://en.wikipedia.org/wiki/F1_score\n",
    "\n",
    "\n",
    "## Confusion Matrix\n",
    "\n",
    "For statistical classification, the confusion matrix or error matrix (or\n",
    "matching matrix in unsupervised learning) is for a two-class problem given by\n",
    "the $2\\times2$ matrix with dimensions 'actual' and 'predicted'\n",
    "\n",
    "$$   \n",
    "{\\bf M}\\st{confusion} = \n",
    "\\begin{array}{l|ll}\n",
    "                           & \\mbox{actual true} & \\mbox{actual false} \\\\ \\hline\n",
    "    \\mbox{predicted true}  & TP & FP \\\\     \n",
    "    \\mbox{predicted false} & FN & TN \n",
    "\\end{array}\n",
    "$$\n",
    "\n",
    "The diagonal, in the square matrix, represent predicted values being the same\n",
    "as the actual values, off-diagonal elements represent erroneous prediction.\n",
    "\n",
    "Also notice, that the layout of this matrix is different of what is given in [HOML], \"Confusion Matrix\", p.86/fig 3-2. This is just a minor issue, since we can always flip/rotate/transpose the matrix (say by flipping the $\\by\\st{true}$ and $\\by\\st{pred}$ arguments). \n",
    "\n",
    "For N-class classification the matrix gives a matrix with $N$ actual\n",
    "classes and $N$ predicted classes\n",
    "\n",
    "$$\n",
    "{\\bf M}\\st{confusion}~~~ =\n",
    "  \\left[\n",
    "  \\begin{array}{llll}\n",
    "       c_{11} & c_{12} & \\cdots & c_{1n} \\\\ \n",
    "       c_{21} & c_{22} & \\cdots & c_{2n} \\\\\n",
    "       \\vdots & \\vdots & \\ddots & \\vdots \\\\\n",
    "       c_{n1} & c_{n2} & \\cdots & c_{nn} \\\\ \n",
    "  \\end{array}\n",
    "  \\right]\n",
    "$$\n",
    "with say element $c_{21}$ being the number of actual classes '1' being predicted (erroneously) as class '2'.\n",
    "\n",
    "### Nomenclature for the Confusion Matrix\n",
    "\n",
    "The naming of the elements in the confusion matrix can be rather exotic, like _false omission rate_ (see the figure below), but we won't get to such detail here...let us stick with TP, TN, FP, FN and $F_1$!\n",
    "\n",
    "<img src=\"https://itundervisning.ase.au.dk/E19_itmal/L02/Figs/performance_metrics.png\" style=\"width:900px\">\n",
    "\n",
    "If you need more info on the confusion matrix:\n",
    "\n",
    ">  https://en.wikipedia.org/wiki/Confusion_matrix"
   ]
  },
  {
   "cell_type": "markdown",
   "metadata": {
    "colab_type": "text",
    "id": "RudEM72xzScg"
   },
   "source": [
    "## Qa Implement the Accuracy function and test it on the MNIST data.\n",
    "\n",
    "We now follow the convention in Scikit-learn, that a score funtion takes the arguments `y_true` and then `y_pred`\n",
    "\n",
    "```\n",
    "    sklearn.metrics.accuracy_score(y_true, y_pred, ..)\n",
    "```\n",
    "\n",
    "Implement a general accuracy function `MyAccuracy(y_true, y_pred)`.\n",
    "\n",
    "Reuse your MNIST data loader and test the `MyAccuracy` function  both on your dummy classifier and on the Stochastic Gradient Descent classifier (with setup parameters as in [HOLM]).\n",
    "\n",
    "Compare your accuracy score with the acutal value from `sklearn.metrics.accuracy_score()`."
   ]
  },
  {
   "cell_type": "markdown",
   "metadata": {},
   "source": [
    "<font color=Blue><h1>Qa) solution</h1></font>"
   ]
  },
  {
   "cell_type": "code",
   "execution_count": 1,
   "metadata": {
    "colab": {
     "base_uri": "https://localhost:8080/",
     "height": 51
    },
    "colab_type": "code",
    "executionInfo": {
     "elapsed": 49221,
     "status": "ok",
     "timestamp": 1568819751269,
     "user": {
      "displayName": "David skovgaard hansen",
      "photoUrl": "",
      "userId": "00102551288977466283"
     },
     "user_tz": -120
    },
    "id": "IhXaDGSXzSch",
    "outputId": "f5c357d9-3afa-4760-a18a-bb688cc7269f"
   },
   "outputs": [
    {
     "name": "stdout",
     "output_type": "stream",
     "text": [
      "X.shape=(70000, 784)\n",
      "X.shape=(70000, 784)\n"
     ]
    }
   ],
   "source": [
    "from sklearn.linear_model import SGDClassifier\n",
    "sgd_clf = SGDClassifier(random_state=42)\n",
    "import ClassifierModule\n",
    "import sklearn.metrics\n",
    "\n",
    "X, y = ClassifierModule.MNIST_GetDataSet()\n",
    "\n",
    "X_train, X_test, y_train, y_test = X[:60000], X[60000:], y[:60000], y[60000:]\n",
    "\n",
    "y_train_5 = (y_train == '5')    \n",
    "y_test_5  = (y_test == '5')\n",
    "\n",
    "sgd_clf.fit(X_train, y_train_5)\n",
    "\n",
    "dummy_clf = ClassifierModule.DummyClassifier()\n",
    "dummy_clf.fit(X_train,y_train_5)\n",
    "\n",
    "\n",
    "y_dummy_pred = dummy_clf.predict(X_train)\n",
    "y_sgd_pred = sgd_clf.predict(X_train)\n",
    "# TEST FUNCTION: example of a comperator, using Scikit-learn accuracy_score\n",
    "#def TestAccuracy(y_true, y_pred):\n",
    "#    a0=MyAccuracy(y_true, y_pred)\n",
    "#    a1=accuracy_score(y_true, y_pred)\n",
    "#\n",
    "#    print(f\"\\nmy a          ={a0}\")\n",
    "#    print(f\"scikit-learn a={a1}\")\n",
    "#\n",
    "#    # do some numerical comparison here, like\n",
    "#    #  if fabs(a0-a1)<eps then .."
   ]
  },
  {
   "cell_type": "code",
   "execution_count": 2,
   "metadata": {
    "colab": {
     "base_uri": "https://localhost:8080/",
     "height": 85
    },
    "colab_type": "code",
    "executionInfo": {
     "elapsed": 49365,
     "status": "ok",
     "timestamp": 1568819751458,
     "user": {
      "displayName": "David skovgaard hansen",
      "photoUrl": "",
      "userId": "00102551288977466283"
     },
     "user_tz": -120
    },
    "id": "QbkqHMwETxun",
    "outputId": "fa6b5fef-5c29-419d-a5bd-796964450d91"
   },
   "outputs": [
    {
     "name": "stdout",
     "output_type": "stream",
     "text": [
      "Accuracy score of SGDClassifier on training set:  0.9522666666666667\n",
      "Accuracy score of SGDClassifier on test set:  0.9492\n",
      "Accuracy score of dummy classifier on training set:  0.90965\n",
      "Accuracy score of dummy classifier using MyAccuracy on training set:  0.90965\n"
     ]
    }
   ],
   "source": [
    "def MyAccuracy(y_true, y_pred):\n",
    "    cnt = 0\n",
    "    for n in range(len(y_true)):\n",
    "        if y_true[n] == y_pred[n]:\n",
    "            cnt = cnt + 1\n",
    "    return cnt/len(y_true)\n",
    "\n",
    "print(\"Accuracy score of SGDClassifier on training set: \", sklearn.metrics.accuracy_score(y_train_5, y_sgd_pred))\n",
    "print(\"Accuracy score of SGDClassifier on test set: \", sklearn.metrics.accuracy_score(y_test_5, sgd_clf.predict(X_test)))\n",
    "print(\"Accuracy score of dummy classifier on training set: \", sklearn.metrics.accuracy_score(y_train_5, y_dummy_pred))\n",
    "print(\"Accuracy score of dummy classifier using MyAccuracy on training set: \", MyAccuracy(y_dummy_pred, y_train_5))\n"
   ]
  },
  {
   "cell_type": "markdown",
   "metadata": {
    "colab_type": "text",
    "id": "mdpwd751zSck"
   },
   "source": [
    "## Qb Implement Precision, Recall and $F_1$-score and test it on the MNIST data.\n",
    "\n",
    "Now, implement the `MyPrecision`, `MyRecall` and `MyF1Score` functions, again taking MNIST as input, using the SGD and the Dummy classifiers and make some test vectors to compare to the functions found in Scikit-learn..."
   ]
  },
  {
   "cell_type": "markdown",
   "metadata": {},
   "source": [
    "<font color=Blue><h1>Qb) solution</h1></font>"
   ]
  },
  {
   "cell_type": "code",
   "execution_count": 3,
   "metadata": {
    "colab": {
     "base_uri": "https://localhost:8080/",
     "height": 238
    },
    "colab_type": "code",
    "executionInfo": {
     "elapsed": 50631,
     "status": "ok",
     "timestamp": 1568819752768,
     "user": {
      "displayName": "David skovgaard hansen",
      "photoUrl": "",
      "userId": "00102551288977466283"
     },
     "user_tz": -120
    },
    "id": "xJ-hrMhOzScl",
    "outputId": "9e31dc88-0948-4a32-aeae-2eb577415538"
   },
   "outputs": [
    {
     "name": "stdout",
     "output_type": "stream",
     "text": [
      "MyPrecision with dummy classifier 0.0\n",
      "Division by zero in MyRecall\n",
      "MyRecall with dummy classifier 0\n",
      "Division by zero in MyRecall\n",
      "Division by zero in MyF1Score\n",
      "MyF1Score with dummy classifier 0\n",
      "MyPrecision with sgd classifier 0.8891348459693783\n",
      "MyRecall with sgd classifier 0.6805026118876183\n",
      "MyF1Score with sgd classifier 0.7709532949456175\n",
      "Difference between MyMetrics and SKLearn metrics:\n",
      "Precision: 0.0\n",
      "Division by zero in MyRecall\n",
      "Recall: -0.5\n",
      "Division by zero in MyRecall\n",
      "Division by zero in MyF1Score\n",
      "F1 score: -0.5\n"
     ]
    }
   ],
   "source": [
    "def MyPrecision(y_true, y_pred):\n",
    "    TP = 0\n",
    "    FP = 0\n",
    "    for n in range(len(y_true)):\n",
    "        if y_true[n] == True and y_pred[n] == True:\n",
    "            TP = TP + 1\n",
    "        if y_true[n] == False and y_pred[n] == True:\n",
    "            FP = FP + 1\n",
    "    if TP+FP == 0:\n",
    "        print(\"Division by zero in MyPrecision\")\n",
    "        return 0\n",
    "    return TP/(TP+FP)\n",
    "\n",
    "def MyRecall(y_true, y_pred):\n",
    "    TP = 0\n",
    "    FN = 0\n",
    "    for n in range(len(y_true)):\n",
    "        if y_true[n] == True and y_pred[n] == True:\n",
    "            TP = TP + 1\n",
    "        if y_true[n] == True and y_pred[n] == False:\n",
    "            FN = FN + 1\n",
    "        if TP+FN == 0:\n",
    "            print(\"Division by zero in MyRecall\")\n",
    "            return 0\n",
    "    return TP/(TP+FN)\n",
    "    \n",
    "def MyF1Score(y_true, y_pred):\n",
    "    p = MyPrecision(y_true, y_pred)\n",
    "    r = MyRecall(y_true, y_pred)\n",
    "    if p == 0 or r == 0: \n",
    "        print(\"Division by zero in MyF1Score\")\n",
    "        return 0\n",
    "    return 2/(1/p + 1/r)\n",
    "\n",
    "\n",
    "print(\"MyPrecision with dummy classifier\", MyPrecision(y_dummy_pred, y_train_5))\n",
    "print(\"MyRecall with dummy classifier\", MyRecall(y_dummy_pred, y_train_5))\n",
    "print(\"MyF1Score with dummy classifier\", MyF1Score(y_dummy_pred, y_train_5))\n",
    "\n",
    "print(\"MyPrecision with sgd classifier\", MyPrecision(y_sgd_pred, y_train_5))\n",
    "print(\"MyRecall with sgd classifier\", MyRecall(y_sgd_pred, y_train_5))\n",
    "print(\"MyF1Score with sgd classifier\", MyF1Score(y_sgd_pred, y_train_5))\n",
    "\n",
    "v1 = [False, True, False, True]\n",
    "v2 = [False, True, True, False]\n",
    "\n",
    "print(\"Difference between MyMetrics and SKLearn metrics:\")\n",
    "print(\"Precision:\", MyPrecision(v1, v2) - sklearn.metrics.precision_score(v1, v2))\n",
    "print(\"Recall:\", MyRecall(v1, v2) - sklearn.metrics.recall_score(v1, v2))\n",
    "print(\"F1 score:\", MyF1Score(v1, v2) - sklearn.metrics.f1_score(v1, v2))"
   ]
  },
  {
   "cell_type": "markdown",
   "metadata": {
    "colab_type": "text",
    "id": "tlDttqBFzSco"
   },
   "source": [
    "## Qc The Confusion Matrix\n",
    "\n",
    "Revisit your solution to Qb in the `dummy_classifier.ipynb`. Generate the confusion matrix for both the Dummy and the SGD classifier using the `scklearn.metrics.confusion_matrix` function. \n",
    "\n",
    "I got the two confusion matrices\n",
    "\n",
    "```\n",
    "M_dummy=[[18166     0]\n",
    "        [ 1834     0]]\n",
    "   \n",
    "M_SDG=[[17618   548]\n",
    "      [  267  1567]]\n",
    "\n",
    "```\n",
    "your data may look similar (but not 100% eq\n",
    "\n",
    "How are the Scikit-learn confusion matrix organized, where are the TP, FP, FN and TN located in the matrix indices, and what happens if you mess up the parameters calling\n",
    "\n",
    "```python\n",
    "confusion_matrix(y_train_pred, y_train_5)\n",
    "```\n",
    "\n",
    "instead of \n",
    "```python\n",
    "confusion_matrix(y_train_5, y_train_pred)\n",
    "```"
   ]
  },
  {
   "attachments": {},
   "cell_type": "markdown",
   "metadata": {},
   "source": [
    "<font color=Blue><h1>Qc) solution</h1></font>"
   ]
  },
  {
   "cell_type": "code",
   "execution_count": 4,
   "metadata": {
    "colab": {
     "base_uri": "https://localhost:8080/",
     "height": 119
    },
    "colab_type": "code",
    "executionInfo": {
     "elapsed": 518,
     "status": "ok",
     "timestamp": 1568819796373,
     "user": {
      "displayName": "David skovgaard hansen",
      "photoUrl": "",
      "userId": "00102551288977466283"
     },
     "user_tz": -120
    },
    "id": "6M1FKAgJzSco",
    "outputId": "df3df07f-2cba-41da-e3fe-828dceb50722"
   },
   "outputs": [
    {
     "name": "stdout",
     "output_type": "stream",
     "text": [
      "Dummy confusion matrix:\n",
      " [[54579     0]\n",
      " [ 5421     0]]\n",
      "SGD confusion matrix:\n",
      " [[52316  2263]\n",
      " [  601  4820]]\n"
     ]
    }
   ],
   "source": [
    "M_dummy = sklearn.metrics.confusion_matrix(y_train_5, y_dummy_pred)\n",
    "M_SGD = sklearn.metrics.confusion_matrix(y_train_5, y_sgd_pred)\n",
    "\n",
    "print(\"Dummy confusion matrix:\\n\", M_dummy)\n",
    "print(\"SGD confusion matrix:\\n\", M_SGD)"
   ]
  },
  {
   "cell_type": "markdown",
   "metadata": {
    "colab_type": "text",
    "id": "QfsPw0BRzScq"
   },
   "source": [
    "## Qd A Confusion Matrix Heat-map\n",
    "\n",
    "Generate a _heat map_ image for the confusion matrices, `M_dummy` and `M_SGD` respectively, getting inspiration from [HOML] \"Error Analysis\", pp.96-97.\n",
    "\n",
    "This heat map could be an important guide for you when analysing multiclass data in the future."
   ]
  },
  {
   "cell_type": "markdown",
   "metadata": {},
   "source": [
    "<font color=Blue><h1>Qd) solution</h1></font>"
   ]
  },
  {
   "cell_type": "code",
   "execution_count": 5,
   "metadata": {
    "colab": {
     "base_uri": "https://localhost:8080/",
     "height": 601
    },
    "colab_type": "code",
    "executionInfo": {
     "elapsed": 755,
     "status": "ok",
     "timestamp": 1568819891053,
     "user": {
      "displayName": "David skovgaard hansen",
      "photoUrl": "",
      "userId": "00102551288977466283"
     },
     "user_tz": -120
    },
    "id": "SF-UNk7dzScr",
    "outputId": "c4b456b0-19e8-4bf9-8e3f-63efd3963bd9"
   },
   "outputs": [
    {
     "name": "stdout",
     "output_type": "stream",
     "text": [
      "Dummy confusion matrix:\n",
      "\n"
     ]
    },
    {
     "data": {
      "text/plain": [
       "<Figure size 480x480 with 1 Axes>"
      ]
     },
     "metadata": {},
     "output_type": "display_data"
    },
    {
     "name": "stdout",
     "output_type": "stream",
     "text": [
      "SGD confusion matrix:\n",
      "\n"
     ]
    },
    {
     "data": {
      "text/plain": [
       "<Figure size 480x480 with 1 Axes>"
      ]
     },
     "metadata": {},
     "output_type": "display_data"
    }
   ],
   "source": [
    "import matplotlib.pyplot as plt\n",
    "print(\"Dummy confusion matrix:\\n\")\n",
    "plt.matshow(M_dummy, cmap=plt.cm.gray)\n",
    "plt.show()\n",
    "print(\"SGD confusion matrix:\\n\")\n",
    "plt.matshow(M_SGD, cmap=plt.cm.gray)\n",
    "plt.show()"
   ]
  },
  {
   "cell_type": "markdown",
   "metadata": {
    "colab_type": "text",
    "id": "1lXHy6o7zScs"
   },
   "source": [
    "## Qe Conclusion\n",
    "\n",
    "Now, conclude on all the exercise above. \n",
    "\n",
    "Write a short textual conclusion (max. 10- to 20-lines) that extract the _essence_ of the exercises: why did you think it was important to look at these particular ML concepts, and what was our overall learning outcome of the exercises (in broad terms)."
   ]
  },
  {
   "cell_type": "markdown",
   "metadata": {
    "colab": {},
    "colab_type": "code",
    "id": "-X9Pk3hSzSct"
   },
   "source": [
    "<font color=Blue><h1>Qe) conclusion</h1></font>\n",
    "\n",
    "The confusion matrix utilizes multiple equations to evaluate the algorithms prediction purely on statistical data.   \n",
    "Through this exercise we have gone through some ways of evaluation: accuracy, sensitivity, F1 score, and precision.\n",
    "\n",
    "This helps us understand the different trade-offs of the algorithm, it might have a high accuracy but if it \n",
    "isn't also reflected in the sensitivity in the confusion matrix, then we might need to re-evaluate the approach.  \n",
    "\n",
    "These techniques will help us understand how our algorithm behaves on data, as our algorithm might have an \n",
    "unbalanced prediction and help us spot if our algorithm is biased towards any data.\n",
    "\n",
    "We see through this exercise that we need human intuition to decode and understand the results from the confusion matrix \n",
    "and how to improve the algorithm's prediction.\n",
    "\n",
    "The examples in these exercises are controlled, and we have a target value to achieve with our algorithms, \n",
    "but when we start our project it's nice to go through what values we can expect and se how our values can trick us\n",
    "due to bias of the algorithm etc. "
   ]
  }
 ],
 "metadata": {
  "colab": {
   "name": "performance_metrics.ipynb",
   "provenance": [],
   "toc_visible": true
  },
  "kernelspec": {
   "display_name": "Python 3",
   "language": "python",
   "name": "python3"
  },
  "language_info": {
   "codemirror_mode": {
    "name": "ipython",
    "version": 3
   },
   "file_extension": ".py",
   "mimetype": "text/x-python",
   "name": "python",
   "nbconvert_exporter": "python",
   "pygments_lexer": "ipython3",
   "version": "3.7.3"
  },
  "varInspector": {
   "cols": {
    "lenName": 16,
    "lenType": 16,
    "lenVar": 40
   },
   "kernels_config": {
    "python": {
     "delete_cmd_postfix": "",
     "delete_cmd_prefix": "del ",
     "library": "var_list.py",
     "varRefreshCmd": "print(var_dic_list())"
    },
    "r": {
     "delete_cmd_postfix": ") ",
     "delete_cmd_prefix": "rm(",
     "library": "var_list.r",
     "varRefreshCmd": "cat(var_dic_list()) "
    }
   },
   "types_to_exclude": [
    "module",
    "function",
    "builtin_function_or_method",
    "instance",
    "_Feature"
   ],
   "window_display": false
  }
 },
 "nbformat": 4,
 "nbformat_minor": 1
}
