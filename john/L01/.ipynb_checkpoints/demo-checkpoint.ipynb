{
 "cells": [
  {
   "cell_type": "markdown",
   "metadata": {},
   "source": [
    "# ITMAL Intro\n",
    "\n",
    "## Mini Python Demo\n",
    "\n",
    "\n",
    "REVISIONS||\n",
    "---------||\n",
    "2019-0128|CEF, initial. \n",
    "2019-0820|CEF, E19 ITMAL update. \n",
    "2019-0828|CEF, split into more cells.\n",
    "dsff | csdf\n",
    "\n",
    "\n",
    "### Mini Python/Jupyternotebook demo\n",
    "\n",
    "Build-in python array an Numpy arrays...\n",
    "\n",
    "sdfsfd"
   ]
  },
  {
   "cell_type": "code",
   "execution_count": 2,
   "metadata": {},
   "outputs": [
    {
     "name": "stderr",
     "output_type": "stream",
     "text": [
      "E0829 09:03:12.697057 140130534971200 alias.py:221] Invalid alias: The name clear can't be aliased because it is another magic command.\n",
      "E0829 09:03:12.698351 140130534971200 alias.py:221] Invalid alias: The name more can't be aliased because it is another magic command.\n",
      "E0829 09:03:12.699115 140130534971200 alias.py:221] Invalid alias: The name less can't be aliased because it is another magic command.\n",
      "E0829 09:03:12.699884 140130534971200 alias.py:221] Invalid alias: The name man can't be aliased because it is another magic command.\n"
     ]
    },
    {
     "name": "stdout",
     "output_type": "stream",
     "text": [
      "x = [[1, 2, 3], [4, 5, 6]]\n",
      "OK\n"
     ]
    }
   ],
   "source": [
    "%reset -f\n",
    "\n",
    "# import clause, imports numpy as the name 'np'\n",
    "import numpy as np\n",
    "\n",
    "# python build-in array\n",
    "x = [[1, 2, 3], [4, 5, 6]]\n",
    "\n",
    "# print using print-f-syntax, prefeed againts say print('x = ',x)\n",
    "print(f'x = {x}')\n",
    "print('OK')"
   ]
  },
  {
   "cell_type": "code",
   "execution_count": 3,
   "metadata": {},
   "outputs": [
    {
     "name": "stdout",
     "output_type": "stream",
     "text": [
      "y = [[ 1.  2.  3.  4.]\n",
      " [10. 20. 30. 42.]]\n",
      "\n",
      "y.dtype=float64, y.itemsize=8, y.shape=(2, 4)\n",
      "\n",
      "OK\n"
     ]
    }
   ],
   "source": [
    "# create a numpy array\n",
    "y = np.array( [[1.0, 2, 3, 4], [10, 20, 30, 42]] )\n",
    "\n",
    "print(f'y = {y}')\n",
    "print()\n",
    "print(f'y.dtype={y.dtype}, y.itemsize={y.itemsize}, y.shape={y.shape}')\n",
    "\n",
    "print('\\nOK')"
   ]
  },
  {
   "cell_type": "code",
   "execution_count": 4,
   "metadata": {},
   "outputs": [
    {
     "name": "stdout",
     "output_type": "stream",
     "text": [
      "indexing...like a (m x n) matrix\n",
      "2.0\n",
      "4.0\n",
      "3.0\n",
      "[ 2. 20.]\n",
      "\n",
      "OK\n"
     ]
    }
   ],
   "source": [
    "print(\"indexing...like a (m x n) matrix\")\n",
    "print(y[0,1])  \n",
    "print(y[0,-1]) # elem 0-from the 'right', strange but pythonic\n",
    "print(y[0,-2]) # elem 1-from the 'right'\n",
    "\n",
    "# print a column, but will display as 'row'\n",
    "print(y[:,1])\n",
    "print('\\nOK')"
   ]
  },
  {
   "cell_type": "markdown",
   "metadata": {},
   "source": [
    "#### Matrix multiplication\n",
    "\n",
    "Just use Numpy as a matrix like class; create a (3 x 4) matrix and do some matrix operations on it... \n",
    "\n",
    "<img src=\"https://itundervisning.ase.au.dk/E19_itmal/L01/Figs/matrix.jpg\" />\n",
    "\n",
    "(NOTE: do not use `numpy.matrix`, <a href='https://docs.scipy.org/doc/numpy/reference/generated/numpy.matrix.html'>it is unfortunatly depricated.</a>)\n"
   ]
  },
  {
   "cell_type": "code",
   "execution_count": null,
   "metadata": {},
   "outputs": [],
   "source": [
    "x = np.array([ [2, -5, -11 ,0], [-9, 4, 6, 13], [4, 7, 12, -2]])\n",
    "\n",
    "print(f'x={x}\\ny.shape={x.shape}\\n')\n",
    "y = np.transpose(x)\n",
    "\n",
    "# No direct *-oprator in numpy, \n",
    "#  x*y will throw ValueError: operands could not be broadcast together with shapes (3,4) (4,3)\n",
    "#z=x*y\n",
    "\n",
    "# numpy dot is a typically combo python function; \n",
    "#  inner-product if x and y are 1D arrays (vectors)\n",
    "#  matrix multiplication if x and y are 2D arrays (matrices) \n",
    "\n",
    "z = np.dot(x, y)\n",
    "print(f'the dot product, np.dot(x, y)={z}')\n",
    "\n",
    "# alternatives to .dot:\n",
    "#print(np.matmul(x, y))\n",
    "#print(x @ y)\n",
    "\n",
    "# the depricated numpy matrix \n",
    "mx = np.matrix(x)\n",
    "my = np.matrix(y)\n",
    "mz = mx*my;\n",
    "\n",
    "print(f'\\nmatrix type mult: mx*my={mz}')\n",
    "print('\\nOK')"
   ]
  },
  {
   "cell_type": "markdown",
   "metadata": {},
   "source": [
    "#### Writing pythonic,robust code\n",
    "\n",
    "Range-checks and fail-fast..."
   ]
  },
  {
   "cell_type": "code",
   "execution_count": 6,
   "metadata": {},
   "outputs": [
    {
     "name": "stdout",
     "output_type": "stream",
     "text": [
      "Writing pythonic,robust code: range-checks and fail-fast...\n",
      "a pythonic assert..\n"
     ]
    },
    {
     "ename": "AssertionError",
     "evalue": "notice the lack of () in python asserts",
     "output_type": "error",
     "traceback": [
      "\u001b[0;31m---------------------------------------------------------------------------\u001b[0m",
      "\u001b[0;31mAssertionError\u001b[0m                            Traceback (most recent call last)",
      "\u001b[0;32m<ipython-input-6-1a41b9f8ccde>\u001b[0m in \u001b[0;36m<module>\u001b[0;34m\u001b[0m\n\u001b[1;32m      7\u001b[0m \u001b[0;34m\u001b[0m\u001b[0m\n\u001b[1;32m      8\u001b[0m \u001b[0mprint\u001b[0m\u001b[0;34m(\u001b[0m\u001b[0;34m'a pythonic assert..'\u001b[0m\u001b[0;34m)\u001b[0m\u001b[0;34m\u001b[0m\u001b[0;34m\u001b[0m\u001b[0m\n\u001b[0;32m----> 9\u001b[0;31m \u001b[0;32massert\u001b[0m \u001b[0;32mTrue\u001b[0m\u001b[0;34m==\u001b[0m\u001b[0;36m0\u001b[0m\u001b[0;34m,\u001b[0m \u001b[0;34m'notice the lack of () in python asserts'\u001b[0m\u001b[0;34m\u001b[0m\u001b[0;34m\u001b[0m\u001b[0m\n\u001b[0m\u001b[1;32m     10\u001b[0m \u001b[0mprint\u001b[0m\u001b[0;34m(\u001b[0m\u001b[0;34m'\\nOK'\u001b[0m\u001b[0;34m)\u001b[0m\u001b[0;34m\u001b[0m\u001b[0;34m\u001b[0m\u001b[0m\n",
      "\u001b[0;31mAssertionError\u001b[0m: notice the lack of () in python asserts"
     ]
    }
   ],
   "source": [
    "import sys, traceback\n",
    "\n",
    "print('Writing pythonic,robust code: range-checks and fail-fast...')\n",
    "\n",
    "# python do all kinds of range-checks: robust coding\n",
    "#print(y[:,-5]) # will throw!\n",
    "\n",
    "print('a pythonic assert..')\n",
    "assert True==0, 'notice the lack of () in python asserts'\n",
    "print('\\nOK')"
   ]
  },
  {
   "cell_type": "code",
   "execution_count": null,
   "metadata": {},
   "outputs": [],
   "source": [
    "print('a try-catch block..')\n",
    "try:\n",
    "    print(y[:,-5])\n",
    "except IndexError as e:\n",
    "    print(f'cauth exception e=\"{e}\"')\n",
    "    traceback.print_exc(file=sys.stdout)\n",
    "    print()\n",
    "finally:\n",
    "    print('finally executed last no matter what..')\n",
    "print('\\nOK')"
   ]
  }
 ],
 "metadata": {
  "kernelspec": {
   "display_name": "Python 3",
   "language": "python",
   "name": "python3"
  },
  "language_info": {
   "codemirror_mode": {
    "name": "ipython",
    "version": 3
   },
   "file_extension": ".py",
   "mimetype": "text/x-python",
   "name": "python",
   "nbconvert_exporter": "python",
   "pygments_lexer": "ipython3",
   "version": "3.7.3"
  },
  "varInspector": {
   "cols": {
    "lenName": 16,
    "lenType": 16,
    "lenVar": 40
   },
   "kernels_config": {
    "python": {
     "delete_cmd_postfix": "",
     "delete_cmd_prefix": "del ",
     "library": "var_list.py",
     "varRefreshCmd": "print(var_dic_list())"
    },
    "r": {
     "delete_cmd_postfix": ") ",
     "delete_cmd_prefix": "rm(",
     "library": "var_list.r",
     "varRefreshCmd": "cat(var_dic_list()) "
    }
   },
   "types_to_exclude": [
    "module",
    "function",
    "builtin_function_or_method",
    "instance",
    "_Feature"
   ],
   "window_display": true
  }
 },
 "nbformat": 4,
 "nbformat_minor": 2
}
