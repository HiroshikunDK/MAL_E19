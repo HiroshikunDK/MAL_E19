{
 "cells": [
  {
   "cell_type": "markdown",
   "metadata": {},
   "source": [
    "### Welcome Hiro's Calculator\n",
    "\n",
    "This calculator will contain simple function for mathematical operations"
   ]
  },
  {
   "cell_type": "code",
   "execution_count": 4,
   "metadata": {},
   "outputs": [],
   "source": [
    "def Add(x,y):\n",
    "    myvar = x+y\n",
    "    print(\"Addition called\")\n",
    "    return myvar\n",
    "\n",
    "def Sub(x,y):\n",
    "    myvar= x-y\n",
    "    print(\"Subtraction called\")\n",
    "    return myvar \n",
    "\n",
    "def Mul(x,y):\n",
    "    myvar = x*y\n",
    "    print(\"Multiplication called\")\n",
    "    return myvar \n",
    "\n",
    "def Div(x,y):\n",
    "    myvar = x/y\n",
    "    print(\"Multiplication called\")\n",
    "    return myvar"
   ]
  }
 ],
 "metadata": {
  "kernelspec": {
   "display_name": "Python 3",
   "language": "python",
   "name": "python3"
  },
  "language_info": {
   "codemirror_mode": {
    "name": "ipython",
    "version": 3
   },
   "file_extension": ".py",
   "mimetype": "text/x-python",
   "name": "python",
   "nbconvert_exporter": "python",
   "pygments_lexer": "ipython3",
   "version": "3.7.3"
  }
 },
 "nbformat": 4,
 "nbformat_minor": 2
}
